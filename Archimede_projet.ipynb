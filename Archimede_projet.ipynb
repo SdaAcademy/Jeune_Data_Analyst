{
 "cells": [
  {
   "cell_type": "markdown",
   "id": "1f96d5ce-1a62-4b6e-8557-0f56d213fcfb",
   "metadata": {},
   "source": [
    "# Projet 4 : Le mystère des dépenses d'une famille organisée\n",
    "La famille Dumas, vivant dans la petite ville de Parenville, a décidé de suivre attentivement ses dépenses pour épargner en vue de leurs vacances d'été. Monsieur Dumas a pris soin de noter toutes les dépenses mensuelles sur les six derniers mois, \n",
    "mais il ne parvient pas à comprendre pourquoi leurs économies ne se développent pas comme prévu.\n",
    "Il pense que certaines catégories de dépenses, comme le divertissement et l'alimentation, pourraient être responsables de cette situation, mais il a besoin d’une analyse claire.\n",
    "## Votre mission en tant que data analyst : \n",
    "- Monsieur Dumas vous demande d’analyser leurs dépenses en :\n",
    "Identifiant la répartition des dépenses entre les différentes catégories (alimentation, transport, divertissement, etc.).\n",
    "Déterminant quel mois les dépenses ont été les plus élevées.\n",
    "Visualisant les variations mensuelles des dépenses pour mieux comprendre où ils peuvent faire des économies.\n",
    "## Objectifs :\n",
    "- Analyser la répartition des dépenses par catégorie.\n",
    "- Identifier les mois où les dépenses ont été les plus élevées.\n",
    "- Visualiser les dépenses mensuelles.\n",
    "\n",
    "## Jeu de données : depenses_famille.xlsx\n",
    "- Date : Mois de la dépense (chaîne de caractères, format YYYY-MM).\n",
    "- Category : Catégorie de la dépense (chaîne de caractères, ex : \"Alimentation\", \"Transport\").\n",
    "- Amount : Montant dépensé (flottant).\n"
   ]
  },
  {
   "cell_type": "code",
   "execution_count": null,
   "id": "f1866cae-ef14-4640-8b54-11117951eccc",
   "metadata": {},
   "outputs": [],
   "source": []
  }
 ],
 "metadata": {
  "kernelspec": {
   "display_name": "Python 3 (ipykernel)",
   "language": "python",
   "name": "python3"
  },
  "language_info": {
   "codemirror_mode": {
    "name": "ipython",
    "version": 3
   },
   "file_extension": ".py",
   "mimetype": "text/x-python",
   "name": "python",
   "nbconvert_exporter": "python",
   "pygments_lexer": "ipython3",
   "version": "3.11.7"
  }
 },
 "nbformat": 4,
 "nbformat_minor": 5
}
