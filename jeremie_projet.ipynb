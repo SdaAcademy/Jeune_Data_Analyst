{
 "cells": [
  {
   "cell_type": "markdown",
   "id": "755621a7-f5d2-4ae6-a8f0-e49b2b472b60",
   "metadata": {},
   "source": [
    "# Projet 5 : La ville des saisons changeantes\n",
    "Dans la ville pittoresque de Méridienne, les habitants se plaignaient des brusques changements de température.\n",
    "Le maire, Monsieur Climat, a décidé de réagir en analysant les relevés météorologiques des derniers mois.\n",
    "Il souhaite anticiper ces changements pour mieux préparer la population, mais il a besoin d'aide pour comprendre les tendances.\n",
    "Il espère que des données claires sur les températures mensuelles lui permettront de mieux informer les citoyens et de prévoir les périodes les plus chaudes et les plus froides.\n",
    "## Votre mission en tant que data analyst : Monsieur Climat vous confie les relevés de température des six derniers mois. \n",
    "Il vous demande de :\n",
    "- Calculer la température moyenne pour chaque mois.\n",
    "- Visualiser les variations de température au fil du temps.\n",
    "- Identifier les mois les plus chauds et les plus froids.\n",
    "## Objectifs :\n",
    "- Calculer la température moyenne par mois.\n",
    "- Visualiser la variation des températures au fil des mois.\n"
   ]
  },
  {
   "cell_type": "code",
   "execution_count": null,
   "id": "4164af46-83ff-472e-97b1-d6ebfec157e7",
   "metadata": {},
   "outputs": [],
   "source": []
  }
 ],
 "metadata": {
  "kernelspec": {
   "display_name": "Python 3 (ipykernel)",
   "language": "python",
   "name": "python3"
  },
  "language_info": {
   "codemirror_mode": {
    "name": "ipython",
    "version": 3
   },
   "file_extension": ".py",
   "mimetype": "text/x-python",
   "name": "python",
   "nbconvert_exporter": "python",
   "pygments_lexer": "ipython3",
   "version": "3.11.7"
  }
 },
 "nbformat": 4,
 "nbformat_minor": 5
}
