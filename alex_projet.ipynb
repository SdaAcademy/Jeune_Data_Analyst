{
 "cells": [
  {
   "cell_type": "markdown",
   "id": "71a92d99-9e5d-48d9-a6e5-d8b123b3ecbf",
   "metadata": {},
   "source": [
    "# Projet 3 : La quête des bons résultats à l'école\n",
    "Dans l'école Saint-Savoir, Madame Savoirs, la directrice, est soucieuse des résultats de ses élèves en mathématiques. Elle veut identifier les classes et les élèves qui obtiennent les meilleures moyennes pour leur offrir un soutien personnalisé. Elle aimerait également analyser la répartition des notes pour comprendre s'il y a des disparités à corriger.\n",
    "Elle vous a donc engagé pour utiliser les résultats des trois derniers trimestres et fournir des insights sur les performances globales des élèves.\n",
    "Votre mission en tant que data analyst : Madame Savoirs vous demande :\n",
    "De calculer la moyenne des notes pour chaque classe.\n",
    "De visualiser la distribution des notes des élèves.\n",
    "D’identifier les élèves ayant obtenu plus de 90 % pour les récompenser.\n",
    "## Objectifs :\n",
    "- Calculer la moyenne des notes pour chaque classe.\n",
    "- Visualiser la distribution des notes.\n",
    "- Identifier les élèves ayant obtenu plus de 90 %.\n",
    "### Jeu de données : resultats_scolaires.csv\n",
    "- Student ID : Identifiant unique de l'étudiant (entier).\n",
    "- Name : Nom de l'étudiant (chaîne de caractères).\n",
    "- Class : Classe de l'étudiant (chaîne de caractères, ex : \"5e\", \"6e\").\n",
    "- Score : Note obtenue sur 100 (flottant).\n"
   ]
  },
  {
   "cell_type": "code",
   "execution_count": null,
   "id": "7e3b2058-6210-4b0f-ad24-bd68532b8aed",
   "metadata": {},
   "outputs": [],
   "source": []
  }
 ],
 "metadata": {
  "kernelspec": {
   "display_name": "Python 3 (ipykernel)",
   "language": "python",
   "name": "python3"
  },
  "language_info": {
   "codemirror_mode": {
    "name": "ipython",
    "version": 3
   },
   "file_extension": ".py",
   "mimetype": "text/x-python",
   "name": "python",
   "nbconvert_exporter": "python",
   "pygments_lexer": "ipython3",
   "version": "3.11.7"
  }
 },
 "nbformat": 4,
 "nbformat_minor": 5
}
