{
 "cells": [
  {
   "cell_type": "markdown",
   "id": "6ee95dbc",
   "metadata": {},
   "source": [
    "# Projet 2 : Le mystère des résultats des joueurs de football"
   ]
  },
  {
   "cell_type": "markdown",
   "id": "6f075cd9",
   "metadata": {},
   "source": [
    "Dans la ville de Footville, le club de football local, « Les Aigles », a joué une saison époustouflante. Mais leur entraîneur, Madame Balle, est perplexe : certains matchs étaient fantastiques, avec beaucoup de buts, tandis que d'autres étaient décevants.\n",
    "Elle aimerait comprendre pourquoi certaines performances étaient meilleures que d'autres et comment les joueurs ont contribué aux succès de l’équipe. Elle souhaite savoir qui sont ses meilleurs buteurs, passeurs et ceux qui jouent le plus régulièrement.\n",
    "#### Votre mission en tant que data analyst : Madame Balle vous confie les données des matchs joués cette saison.\n",
    "Elle vous demande d’analyser :\n",
    "- 1.\tLe nombre moyen de buts marqués par match.\n",
    "- 2.\tLes joueurs les plus performants en termes de buts et passes décisives.\n",
    "- 3.\tLes performances globales des joueurs en fonction du temps de jeu.\n",
    "\n",
    "### Objectifs :\n",
    "1.\tCalculer le nombre moyen de buts par match.\n",
    "2.\tAnalyser les performances des joueurs en termes de buts et passes décisives.\n",
    "3.\tVisualiser les performances globales des joueurs.\n",
    "### Jeu de données : football_performances.xlsx\n",
    "- ●\tMatch ID : Identifiant unique du match (entier).\n",
    "- ●\tPlayer : Nom du joueur (chaîne de caractères).\n",
    "- ●\tGoals : Nombre de buts marqués (entier).\n",
    "- ●\tAssists : Nombre de passes décisives (entier).\n",
    "- ●\tMinutes Played : Minutes jouées pendant le match (entier).\n"
   ]
  },
  {
   "cell_type": "code",
   "execution_count": 45,
   "id": "547fbab4",
   "metadata": {},
   "outputs": [],
   "source": [
    "# Importation des bibiotheques\n",
    "import pandas as pd\n",
    "import numpy as np\n",
    "import matplotlib.pyplot as plt"
   ]
  },
  {
   "cell_type": "code",
   "execution_count": 46,
   "id": "19cf6450-64f4-4da6-a496-c335909a41cb",
   "metadata": {},
   "outputs": [],
   "source": [
    "df_football = pd.read_excel('football_performances.xlsx')"
   ]
  },
  {
   "cell_type": "code",
   "execution_count": 47,
   "id": "0608176d-027d-4ee2-87ef-d3f54678e5f3",
   "metadata": {},
   "outputs": [
    {
     "data": {
      "text/html": [
       "<div>\n",
       "<style scoped>\n",
       "    .dataframe tbody tr th:only-of-type {\n",
       "        vertical-align: middle;\n",
       "    }\n",
       "\n",
       "    .dataframe tbody tr th {\n",
       "        vertical-align: top;\n",
       "    }\n",
       "\n",
       "    .dataframe thead th {\n",
       "        text-align: right;\n",
       "    }\n",
       "</style>\n",
       "<table border=\"1\" class=\"dataframe\">\n",
       "  <thead>\n",
       "    <tr style=\"text-align: right;\">\n",
       "      <th></th>\n",
       "      <th>Match ID</th>\n",
       "      <th>Player</th>\n",
       "      <th>Goals</th>\n",
       "      <th>Assists</th>\n",
       "      <th>Minutes Played</th>\n",
       "    </tr>\n",
       "  </thead>\n",
       "  <tbody>\n",
       "    <tr>\n",
       "      <th>0</th>\n",
       "      <td>1</td>\n",
       "      <td>John Smith</td>\n",
       "      <td>2</td>\n",
       "      <td>1</td>\n",
       "      <td>90</td>\n",
       "    </tr>\n",
       "    <tr>\n",
       "      <th>1</th>\n",
       "      <td>2</td>\n",
       "      <td>Jane Doe</td>\n",
       "      <td>0</td>\n",
       "      <td>2</td>\n",
       "      <td>75</td>\n",
       "    </tr>\n",
       "    <tr>\n",
       "      <th>2</th>\n",
       "      <td>3</td>\n",
       "      <td>Alex Brown</td>\n",
       "      <td>1</td>\n",
       "      <td>0</td>\n",
       "      <td>80</td>\n",
       "    </tr>\n",
       "    <tr>\n",
       "      <th>3</th>\n",
       "      <td>4</td>\n",
       "      <td>lamine yamal</td>\n",
       "      <td>1</td>\n",
       "      <td>2</td>\n",
       "      <td>90</td>\n",
       "    </tr>\n",
       "    <tr>\n",
       "      <th>4</th>\n",
       "      <td>5</td>\n",
       "      <td>carime benzema</td>\n",
       "      <td>2</td>\n",
       "      <td>0</td>\n",
       "      <td>80</td>\n",
       "    </tr>\n",
       "    <tr>\n",
       "      <th>5</th>\n",
       "      <td>6</td>\n",
       "      <td>kylian mbappe</td>\n",
       "      <td>3</td>\n",
       "      <td>0</td>\n",
       "      <td>90</td>\n",
       "    </tr>\n",
       "    <tr>\n",
       "      <th>6</th>\n",
       "      <td>7</td>\n",
       "      <td>cristiano ronaldo</td>\n",
       "      <td>4</td>\n",
       "      <td>0</td>\n",
       "      <td>90</td>\n",
       "    </tr>\n",
       "    <tr>\n",
       "      <th>7</th>\n",
       "      <td>8</td>\n",
       "      <td>zinedine zidane</td>\n",
       "      <td>1</td>\n",
       "      <td>3</td>\n",
       "      <td>75</td>\n",
       "    </tr>\n",
       "    <tr>\n",
       "      <th>8</th>\n",
       "      <td>9</td>\n",
       "      <td>david beckam</td>\n",
       "      <td>0</td>\n",
       "      <td>2</td>\n",
       "      <td>85</td>\n",
       "    </tr>\n",
       "    <tr>\n",
       "      <th>9</th>\n",
       "      <td>10</td>\n",
       "      <td>lionel messi</td>\n",
       "      <td>5</td>\n",
       "      <td>2</td>\n",
       "      <td>78</td>\n",
       "    </tr>\n",
       "    <tr>\n",
       "      <th>10</th>\n",
       "      <td>11</td>\n",
       "      <td>Diego maradona</td>\n",
       "      <td>4</td>\n",
       "      <td>1</td>\n",
       "      <td>90</td>\n",
       "    </tr>\n",
       "    <tr>\n",
       "      <th>11</th>\n",
       "      <td>12</td>\n",
       "      <td>Erling Haaland</td>\n",
       "      <td>5</td>\n",
       "      <td>0</td>\n",
       "      <td>90</td>\n",
       "    </tr>\n",
       "    <tr>\n",
       "      <th>12</th>\n",
       "      <td>13</td>\n",
       "      <td>vinicis junior</td>\n",
       "      <td>2</td>\n",
       "      <td>3</td>\n",
       "      <td>90</td>\n",
       "    </tr>\n",
       "  </tbody>\n",
       "</table>\n",
       "</div>"
      ],
      "text/plain": [
       "    Match ID             Player  Goals  Assists  Minutes Played\n",
       "0          1         John Smith      2        1              90\n",
       "1          2           Jane Doe      0        2              75\n",
       "2          3         Alex Brown      1        0              80\n",
       "3          4       lamine yamal      1        2              90\n",
       "4          5     carime benzema      2        0              80\n",
       "5          6      kylian mbappe      3        0              90\n",
       "6          7  cristiano ronaldo      4        0              90\n",
       "7          8    zinedine zidane      1        3              75\n",
       "8          9       david beckam      0        2              85\n",
       "9         10       lionel messi      5        2              78\n",
       "10        11     Diego maradona      4        1              90\n",
       "11        12     Erling Haaland      5        0              90\n",
       "12        13     vinicis junior      2        3              90"
      ]
     },
     "execution_count": 47,
     "metadata": {},
     "output_type": "execute_result"
    }
   ],
   "source": [
    "df_football"
   ]
  },
  {
   "cell_type": "code",
   "execution_count": 48,
   "id": "73fcef12-2e89-41c0-8a29-8300fbb625e7",
   "metadata": {},
   "outputs": [
    {
     "data": {
      "text/plain": [
       "0     2\n",
       "1     0\n",
       "2     1\n",
       "3     1\n",
       "4     2\n",
       "5     3\n",
       "6     4\n",
       "7     1\n",
       "8     0\n",
       "9     5\n",
       "10    4\n",
       "11    5\n",
       "12    2\n",
       "Name: Goals, dtype: int64"
      ]
     },
     "execution_count": 48,
     "metadata": {},
     "output_type": "execute_result"
    }
   ],
   "source": [
    "# Performances des joueurs selon les buts\n",
    "df_matchs = df_football ['Goals']\n",
    "df_matchs"
   ]
  },
  {
   "cell_type": "code",
   "execution_count": 49,
   "id": "6acf3f26-7406-445f-9743-fda5aab2b68b",
   "metadata": {},
   "outputs": [
    {
     "data": {
      "text/plain": [
       "2.3076923076923075"
      ]
     },
     "execution_count": 49,
     "metadata": {},
     "output_type": "execute_result"
    }
   ],
   "source": [
    "\n",
    "df_matchs.mean()"
   ]
  },
  {
   "cell_type": "code",
   "execution_count": 50,
   "id": "89535c8e-0cda-4fcc-8c0a-0b34383f6e2b",
   "metadata": {},
   "outputs": [
    {
     "data": {
      "text/plain": [
       "2"
      ]
     },
     "execution_count": 50,
     "metadata": {},
     "output_type": "execute_result"
    }
   ],
   "source": [
    "round(df_matchs.mean())"
   ]
  },
  {
   "cell_type": "code",
   "execution_count": 51,
   "id": "e57b0492-dbca-45a5-b15e-b995c3c75efd",
   "metadata": {},
   "outputs": [
    {
     "data": {
      "text/plain": [
       "0     1\n",
       "1     2\n",
       "2     0\n",
       "3     2\n",
       "4     0\n",
       "5     0\n",
       "6     0\n",
       "7     3\n",
       "8     2\n",
       "9     2\n",
       "10    1\n",
       "11    0\n",
       "12    3\n",
       "Name: Assists, dtype: int64"
      ]
     },
     "execution_count": 51,
     "metadata": {},
     "output_type": "execute_result"
    }
   ],
   "source": [
    "# Performances des joueurs selon les passes decisives\n",
    "df_assperf = df_football ['Assists'] \n",
    "df_assperf"
   ]
  },
  {
   "cell_type": "code",
   "execution_count": 52,
   "id": "958b31b5-564e-4b24-a58b-30ad79437d89",
   "metadata": {},
   "outputs": [
    {
     "data": {
      "text/plain": [
       "0            John Smith\n",
       "1              Jane Doe\n",
       "2            Alex Brown\n",
       "3          lamine yamal\n",
       "4        carime benzema\n",
       "5         kylian mbappe\n",
       "6     cristiano ronaldo\n",
       "7       zinedine zidane\n",
       "8          david beckam\n",
       "9          lionel messi\n",
       "10       Diego maradona\n",
       "11       Erling Haaland\n",
       "12       vinicis junior\n",
       "Name: Player, dtype: object"
      ]
     },
     "execution_count": 52,
     "metadata": {},
     "output_type": "execute_result"
    }
   ],
   "source": [
    "# Liste des joueurs\n",
    "df_Player = df_football['Player']\n",
    "df_Player"
   ]
  },
  {
   "cell_type": "code",
   "execution_count": 53,
   "id": "f922de70-9b24-4b1b-8a82-577dc8ded480",
   "metadata": {},
   "outputs": [
    {
     "data": {
      "text/plain": [
       "Player\n",
       "Alex Brown           0\n",
       "Diego maradona       1\n",
       "Erling Haaland       0\n",
       "Jane Doe             2\n",
       "John Smith           1\n",
       "carime benzema       0\n",
       "cristiano ronaldo    0\n",
       "david beckam         2\n",
       "kylian mbappe        0\n",
       "lamine yamal         2\n",
       "lionel messi         2\n",
       "vinicis junior       3\n",
       "zinedine zidane      3\n",
       "Name: Assists, dtype: int64"
      ]
     },
     "execution_count": 53,
     "metadata": {},
     "output_type": "execute_result"
    }
   ],
   "source": [
    "# Liste des joueurs en fonction des passes decisives\n",
    "df_football.groupby('Player')['Assists'].sum()"
   ]
  },
  {
   "cell_type": "code",
   "execution_count": 54,
   "id": "43a66e8d-48fe-4ce5-8b38-b36a9fd8c66f",
   "metadata": {},
   "outputs": [
    {
     "data": {
      "text/plain": [
       "5"
      ]
     },
     "execution_count": 54,
     "metadata": {},
     "output_type": "execute_result"
    }
   ],
   "source": [
    "# Le nombre de but le plus élévé \n",
    "df_football.groupby('Player')['Goals'].sum().max()"
   ]
  },
  {
   "cell_type": "code",
   "execution_count": 55,
   "id": "94b87fd0-68d6-46f3-af6a-19b82e2d7eb8",
   "metadata": {},
   "outputs": [
    {
     "data": {
      "text/html": [
       "<div>\n",
       "<style scoped>\n",
       "    .dataframe tbody tr th:only-of-type {\n",
       "        vertical-align: middle;\n",
       "    }\n",
       "\n",
       "    .dataframe tbody tr th {\n",
       "        vertical-align: top;\n",
       "    }\n",
       "\n",
       "    .dataframe thead th {\n",
       "        text-align: right;\n",
       "    }\n",
       "</style>\n",
       "<table border=\"1\" class=\"dataframe\">\n",
       "  <thead>\n",
       "    <tr style=\"text-align: right;\">\n",
       "      <th></th>\n",
       "      <th>Assists</th>\n",
       "      <th>Goals</th>\n",
       "    </tr>\n",
       "    <tr>\n",
       "      <th>Player</th>\n",
       "      <th></th>\n",
       "      <th></th>\n",
       "    </tr>\n",
       "  </thead>\n",
       "  <tbody>\n",
       "    <tr>\n",
       "      <th>Alex Brown</th>\n",
       "      <td>0</td>\n",
       "      <td>1</td>\n",
       "    </tr>\n",
       "    <tr>\n",
       "      <th>Diego maradona</th>\n",
       "      <td>1</td>\n",
       "      <td>4</td>\n",
       "    </tr>\n",
       "    <tr>\n",
       "      <th>Erling Haaland</th>\n",
       "      <td>0</td>\n",
       "      <td>5</td>\n",
       "    </tr>\n",
       "    <tr>\n",
       "      <th>Jane Doe</th>\n",
       "      <td>2</td>\n",
       "      <td>0</td>\n",
       "    </tr>\n",
       "    <tr>\n",
       "      <th>John Smith</th>\n",
       "      <td>1</td>\n",
       "      <td>2</td>\n",
       "    </tr>\n",
       "    <tr>\n",
       "      <th>carime benzema</th>\n",
       "      <td>0</td>\n",
       "      <td>2</td>\n",
       "    </tr>\n",
       "    <tr>\n",
       "      <th>cristiano ronaldo</th>\n",
       "      <td>0</td>\n",
       "      <td>4</td>\n",
       "    </tr>\n",
       "    <tr>\n",
       "      <th>david beckam</th>\n",
       "      <td>2</td>\n",
       "      <td>0</td>\n",
       "    </tr>\n",
       "    <tr>\n",
       "      <th>kylian mbappe</th>\n",
       "      <td>0</td>\n",
       "      <td>3</td>\n",
       "    </tr>\n",
       "    <tr>\n",
       "      <th>lamine yamal</th>\n",
       "      <td>2</td>\n",
       "      <td>1</td>\n",
       "    </tr>\n",
       "    <tr>\n",
       "      <th>lionel messi</th>\n",
       "      <td>2</td>\n",
       "      <td>5</td>\n",
       "    </tr>\n",
       "    <tr>\n",
       "      <th>vinicis junior</th>\n",
       "      <td>3</td>\n",
       "      <td>2</td>\n",
       "    </tr>\n",
       "    <tr>\n",
       "      <th>zinedine zidane</th>\n",
       "      <td>3</td>\n",
       "      <td>1</td>\n",
       "    </tr>\n",
       "  </tbody>\n",
       "</table>\n",
       "</div>"
      ],
      "text/plain": [
       "                   Assists  Goals\n",
       "Player                           \n",
       "Alex Brown               0      1\n",
       "Diego maradona           1      4\n",
       "Erling Haaland           0      5\n",
       "Jane Doe                 2      0\n",
       "John Smith               1      2\n",
       "carime benzema           0      2\n",
       "cristiano ronaldo        0      4\n",
       "david beckam             2      0\n",
       "kylian mbappe            0      3\n",
       "lamine yamal             2      1\n",
       "lionel messi             2      5\n",
       "vinicis junior           3      2\n",
       "zinedine zidane          3      1"
      ]
     },
     "execution_count": 55,
     "metadata": {},
     "output_type": "execute_result"
    }
   ],
   "source": [
    "# Liste des joueurs selon les buts et les passes décisives\n",
    "df_football.groupby('Player')[['Assists', 'Goals']].sum()"
   ]
  },
  {
   "cell_type": "code",
   "execution_count": 56,
   "id": "2189fd12-c05a-4e1c-a6f0-bc70a2597666",
   "metadata": {},
   "outputs": [
    {
     "data": {
      "text/plain": [
       "Assists    3\n",
       "Goals      5\n",
       "dtype: int64"
      ]
     },
     "execution_count": 56,
     "metadata": {},
     "output_type": "execute_result"
    }
   ],
   "source": [
    "# Nombre de but et passes décisives le plus élévés  \n",
    "df_football.groupby('Player')[['Assists','Goals']].sum().max()"
   ]
  },
  {
   "cell_type": "code",
   "execution_count": 57,
   "id": "8e8ed52f-866e-4a1f-a9a3-16d330d16046",
   "metadata": {},
   "outputs": [
    {
     "data": {
      "image/png": "[encoded data removed]",
      "text/plain": [
       "<Figure size 640x480 with 1 Axes>"
      ]
     },
     "metadata": {},
     "output_type": "display_data"
    }
   ],
   "source": [
    "# Visualisation des performances des joueurs en termes de buts\n",
    "df_matchs.plot(kind='bar', title='les performances des joueurs en termes de buts.')\n",
    "plt.ylabel('Goals')\n",
    "plt.show()"
   ]
  },
  {
   "cell_type": "code",
   "execution_count": 58,
   "id": "34202695-eec9-4fdd-8e31-241ddcc988f4",
   "metadata": {},
   "outputs": [
    {
     "data": {
      "image/png": "[encoded data removed]",
      "text/plain": [
       "<Figure size 640x480 with 1 Axes>"
      ]
     },
     "metadata": {},
     "output_type": "display_data"
    }
   ],
   "source": [
    "# Visualisation de perforùances des joueurs en termes des passes décisives\n",
    "df_matchs.plot(kind='bar', title='les performances des joueurs en termes de passes decisives.')\n",
    "plt.ylabel('Assists')\n",
    "plt.show()"
   ]
  },
  {
   "cell_type": "code",
   "execution_count": 59,
   "id": "de5fd0f9-6e91-4c70-9d8c-b289fce5e2ba",
   "metadata": {},
   "outputs": [
    {
     "data": {
      "text/html": [
       "<div>\n",
       "<style scoped>\n",
       "    .dataframe tbody tr th:only-of-type {\n",
       "        vertical-align: middle;\n",
       "    }\n",
       "\n",
       "    .dataframe tbody tr th {\n",
       "        vertical-align: top;\n",
       "    }\n",
       "\n",
       "    .dataframe thead th {\n",
       "        text-align: right;\n",
       "    }\n",
       "</style>\n",
       "<table border=\"1\" class=\"dataframe\">\n",
       "  <thead>\n",
       "    <tr style=\"text-align: right;\">\n",
       "      <th></th>\n",
       "      <th>Assists</th>\n",
       "      <th>Goals</th>\n",
       "    </tr>\n",
       "    <tr>\n",
       "      <th>Player</th>\n",
       "      <th></th>\n",
       "      <th></th>\n",
       "    </tr>\n",
       "  </thead>\n",
       "  <tbody>\n",
       "    <tr>\n",
       "      <th>Alex Brown</th>\n",
       "      <td>0</td>\n",
       "      <td>1</td>\n",
       "    </tr>\n",
       "    <tr>\n",
       "      <th>Diego maradona</th>\n",
       "      <td>1</td>\n",
       "      <td>4</td>\n",
       "    </tr>\n",
       "    <tr>\n",
       "      <th>Erling Haaland</th>\n",
       "      <td>0</td>\n",
       "      <td>5</td>\n",
       "    </tr>\n",
       "    <tr>\n",
       "      <th>Jane Doe</th>\n",
       "      <td>2</td>\n",
       "      <td>0</td>\n",
       "    </tr>\n",
       "    <tr>\n",
       "      <th>John Smith</th>\n",
       "      <td>1</td>\n",
       "      <td>2</td>\n",
       "    </tr>\n",
       "    <tr>\n",
       "      <th>carime benzema</th>\n",
       "      <td>0</td>\n",
       "      <td>2</td>\n",
       "    </tr>\n",
       "    <tr>\n",
       "      <th>cristiano ronaldo</th>\n",
       "      <td>0</td>\n",
       "      <td>4</td>\n",
       "    </tr>\n",
       "    <tr>\n",
       "      <th>david beckam</th>\n",
       "      <td>2</td>\n",
       "      <td>0</td>\n",
       "    </tr>\n",
       "    <tr>\n",
       "      <th>kylian mbappe</th>\n",
       "      <td>0</td>\n",
       "      <td>3</td>\n",
       "    </tr>\n",
       "    <tr>\n",
       "      <th>lamine yamal</th>\n",
       "      <td>2</td>\n",
       "      <td>1</td>\n",
       "    </tr>\n",
       "    <tr>\n",
       "      <th>lionel messi</th>\n",
       "      <td>2</td>\n",
       "      <td>5</td>\n",
       "    </tr>\n",
       "    <tr>\n",
       "      <th>vinicis junior</th>\n",
       "      <td>3</td>\n",
       "      <td>2</td>\n",
       "    </tr>\n",
       "    <tr>\n",
       "      <th>zinedine zidane</th>\n",
       "      <td>3</td>\n",
       "      <td>1</td>\n",
       "    </tr>\n",
       "  </tbody>\n",
       "</table>\n",
       "</div>"
      ],
      "text/plain": [
       "                   Assists  Goals\n",
       "Player                           \n",
       "Alex Brown               0      1\n",
       "Diego maradona           1      4\n",
       "Erling Haaland           0      5\n",
       "Jane Doe                 2      0\n",
       "John Smith               1      2\n",
       "carime benzema           0      2\n",
       "cristiano ronaldo        0      4\n",
       "david beckam             2      0\n",
       "kylian mbappe            0      3\n",
       "lamine yamal             2      1\n",
       "lionel messi             2      5\n",
       "vinicis junior           3      2\n",
       "zinedine zidane          3      1"
      ]
     },
     "execution_count": 59,
     "metadata": {},
     "output_type": "execute_result"
    }
   ],
   "source": [
    "df_performance = df_football.groupby('Player')[['Assists','Goals']].sum()\n",
    "df_performance"
   ]
  },
  {
   "cell_type": "code",
   "execution_count": null,
   "id": "18a41aae-0824-4c01-81d3-1d1a54814d63",
   "metadata": {},
   "outputs": [],
   "source": []
  },
  {
   "cell_type": "code",
   "execution_count": 60,
   "id": "ce505a9e-2260-4e8a-8c8d-332490fa293b",
   "metadata": {},
   "outputs": [
    {
     "data": {
      "image/png": "[encoded data removed]",
      "text/plain": [
       "<Figure size 640x480 with 1 Axes>"
      ]
     },
     "metadata": {},
     "output_type": "display_data"
    }
   ],
   "source": [
    "# Visualisation de perforùances des joueurs en termes des passes décisives et de buts\n",
    "df_performance.plot(kind='bar', title='les performances des joueurs en termes de buts et passes decisives.')\n",
    "plt.ylabel('Total')\n",
    "plt.show()"
   ]
  },
  {
   "cell_type": "code",
   "execution_count": 61,
   "id": "f18654a4-8a32-4f15-9599-b8c2b2e678d0",
   "metadata": {},
   "outputs": [
    {
     "data": {
      "text/plain": [
       "0     90\n",
       "1     75\n",
       "2     80\n",
       "3     90\n",
       "4     80\n",
       "5     90\n",
       "6     90\n",
       "7     75\n",
       "8     85\n",
       "9     78\n",
       "10    90\n",
       "11    90\n",
       "12    90\n",
       "Name: Minutes Played, dtype: int64"
      ]
     },
     "execution_count": 61,
     "metadata": {},
     "output_type": "execute_result"
    }
   ],
   "source": [
    "# Liste des joueurs en termes de temps de jeu\n",
    "df_glob = df_football['Minutes Played']\n",
    "df_glob \n"
   ]
  },
  {
   "cell_type": "code",
   "execution_count": 62,
   "id": "473c394e-bd14-4d2a-a45b-37e6a4957728",
   "metadata": {},
   "outputs": [
    {
     "data": {
      "text/html": [
       "<div>\n",
       "<style scoped>\n",
       "    .dataframe tbody tr th:only-of-type {\n",
       "        vertical-align: middle;\n",
       "    }\n",
       "\n",
       "    .dataframe tbody tr th {\n",
       "        vertical-align: top;\n",
       "    }\n",
       "\n",
       "    .dataframe thead th {\n",
       "        text-align: right;\n",
       "    }\n",
       "</style>\n",
       "<table border=\"1\" class=\"dataframe\">\n",
       "  <thead>\n",
       "    <tr style=\"text-align: right;\">\n",
       "      <th></th>\n",
       "      <th>Minutes Played</th>\n",
       "    </tr>\n",
       "    <tr>\n",
       "      <th>Player</th>\n",
       "      <th></th>\n",
       "    </tr>\n",
       "  </thead>\n",
       "  <tbody>\n",
       "    <tr>\n",
       "      <th>Alex Brown</th>\n",
       "      <td>80</td>\n",
       "    </tr>\n",
       "    <tr>\n",
       "      <th>Diego maradona</th>\n",
       "      <td>90</td>\n",
       "    </tr>\n",
       "    <tr>\n",
       "      <th>Erling Haaland</th>\n",
       "      <td>90</td>\n",
       "    </tr>\n",
       "    <tr>\n",
       "      <th>Jane Doe</th>\n",
       "      <td>75</td>\n",
       "    </tr>\n",
       "    <tr>\n",
       "      <th>John Smith</th>\n",
       "      <td>90</td>\n",
       "    </tr>\n",
       "    <tr>\n",
       "      <th>carime benzema</th>\n",
       "      <td>80</td>\n",
       "    </tr>\n",
       "    <tr>\n",
       "      <th>cristiano ronaldo</th>\n",
       "      <td>90</td>\n",
       "    </tr>\n",
       "    <tr>\n",
       "      <th>david beckam</th>\n",
       "      <td>85</td>\n",
       "    </tr>\n",
       "    <tr>\n",
       "      <th>kylian mbappe</th>\n",
       "      <td>90</td>\n",
       "    </tr>\n",
       "    <tr>\n",
       "      <th>lamine yamal</th>\n",
       "      <td>90</td>\n",
       "    </tr>\n",
       "    <tr>\n",
       "      <th>lionel messi</th>\n",
       "      <td>78</td>\n",
       "    </tr>\n",
       "    <tr>\n",
       "      <th>vinicis junior</th>\n",
       "      <td>90</td>\n",
       "    </tr>\n",
       "    <tr>\n",
       "      <th>zinedine zidane</th>\n",
       "      <td>75</td>\n",
       "    </tr>\n",
       "  </tbody>\n",
       "</table>\n",
       "</div>"
      ],
      "text/plain": [
       "                   Minutes Played\n",
       "Player                           \n",
       "Alex Brown                     80\n",
       "Diego maradona                 90\n",
       "Erling Haaland                 90\n",
       "Jane Doe                       75\n",
       "John Smith                     90\n",
       "carime benzema                 80\n",
       "cristiano ronaldo              90\n",
       "david beckam                   85\n",
       "kylian mbappe                  90\n",
       "lamine yamal                   90\n",
       "lionel messi                   78\n",
       "vinicis junior                 90\n",
       "zinedine zidane                75"
      ]
     },
     "execution_count": 62,
     "metadata": {},
     "output_type": "execute_result"
    }
   ],
   "source": [
    "# Liste des joueurs en termes de temps de jeu\n",
    "df_football.groupby('Player')[['Minutes Played']].sum()"
   ]
  },
  {
   "cell_type": "code",
   "execution_count": 63,
   "id": "225f1ec8-f487-4f4b-b1d5-d0cd989f5f55",
   "metadata": {},
   "outputs": [
    {
     "data": {
      "text/html": [
       "<div>\n",
       "<style scoped>\n",
       "    .dataframe tbody tr th:only-of-type {\n",
       "        vertical-align: middle;\n",
       "    }\n",
       "\n",
       "    .dataframe tbody tr th {\n",
       "        vertical-align: top;\n",
       "    }\n",
       "\n",
       "    .dataframe thead th {\n",
       "        text-align: right;\n",
       "    }\n",
       "</style>\n",
       "<table border=\"1\" class=\"dataframe\">\n",
       "  <thead>\n",
       "    <tr style=\"text-align: right;\">\n",
       "      <th></th>\n",
       "      <th>Minutes Played</th>\n",
       "    </tr>\n",
       "    <tr>\n",
       "      <th>Player</th>\n",
       "      <th></th>\n",
       "    </tr>\n",
       "  </thead>\n",
       "  <tbody>\n",
       "    <tr>\n",
       "      <th>Alex Brown</th>\n",
       "      <td>80</td>\n",
       "    </tr>\n",
       "    <tr>\n",
       "      <th>Diego maradona</th>\n",
       "      <td>90</td>\n",
       "    </tr>\n",
       "    <tr>\n",
       "      <th>Erling Haaland</th>\n",
       "      <td>90</td>\n",
       "    </tr>\n",
       "    <tr>\n",
       "      <th>Jane Doe</th>\n",
       "      <td>75</td>\n",
       "    </tr>\n",
       "    <tr>\n",
       "      <th>John Smith</th>\n",
       "      <td>90</td>\n",
       "    </tr>\n",
       "    <tr>\n",
       "      <th>carime benzema</th>\n",
       "      <td>80</td>\n",
       "    </tr>\n",
       "    <tr>\n",
       "      <th>cristiano ronaldo</th>\n",
       "      <td>90</td>\n",
       "    </tr>\n",
       "    <tr>\n",
       "      <th>david beckam</th>\n",
       "      <td>85</td>\n",
       "    </tr>\n",
       "    <tr>\n",
       "      <th>kylian mbappe</th>\n",
       "      <td>90</td>\n",
       "    </tr>\n",
       "    <tr>\n",
       "      <th>lamine yamal</th>\n",
       "      <td>90</td>\n",
       "    </tr>\n",
       "    <tr>\n",
       "      <th>lionel messi</th>\n",
       "      <td>78</td>\n",
       "    </tr>\n",
       "    <tr>\n",
       "      <th>vinicis junior</th>\n",
       "      <td>90</td>\n",
       "    </tr>\n",
       "    <tr>\n",
       "      <th>zinedine zidane</th>\n",
       "      <td>75</td>\n",
       "    </tr>\n",
       "  </tbody>\n",
       "</table>\n",
       "</div>"
      ],
      "text/plain": [
       "                   Minutes Played\n",
       "Player                           \n",
       "Alex Brown                     80\n",
       "Diego maradona                 90\n",
       "Erling Haaland                 90\n",
       "Jane Doe                       75\n",
       "John Smith                     90\n",
       "carime benzema                 80\n",
       "cristiano ronaldo              90\n",
       "david beckam                   85\n",
       "kylian mbappe                  90\n",
       "lamine yamal                   90\n",
       "lionel messi                   78\n",
       "vinicis junior                 90\n",
       "zinedine zidane                75"
      ]
     },
     "execution_count": 63,
     "metadata": {},
     "output_type": "execute_result"
    }
   ],
   "source": [
    "# Liste de joueurs en termes de temps de jeu \n",
    "df_perf_glob = df_football.groupby('Player')[['Minutes Played']].sum()\n",
    "df_perf_glob"
   ]
  },
  {
   "cell_type": "code",
   "execution_count": 64,
   "id": "4abdfb31-2d48-47b4-bc7e-5aa1302354e5",
   "metadata": {},
   "outputs": [
    {
     "data": {
      "image/png": "[encoded data removed]",
      "text/plain": [
       "<Figure size 640x480 with 1 Axes>"
      ]
     },
     "metadata": {},
     "output_type": "display_data"
    }
   ],
   "source": [
    "# Visualisation des performances globales des joueurs en fonction du temps de jeu\n",
    "df_perf_glob.plot(kind='bar', title='les performances globales des joueurs en fonction du temps de jeu.')\n",
    "plt.ylabel('Minutes Played')\n",
    "plt.show()"
   ]
  }
 ],
 "metadata": {
  "kernelspec": {
   "display_name": "Python 3 (ipykernel)",
   "language": "python",
   "name": "python3"
  },
  "language_info": {
   "codemirror_mode": {
    "name": "ipython",
    "version": 3
   },
   "file_extension": ".py",
   "mimetype": "text/x-python",
   "name": "python",
   "nbconvert_exporter": "python",
   "pygments_lexer": "ipython3",
   "version": "3.11.7"
  }
 },
 "nbformat": 4,
 "nbformat_minor": 5
}
