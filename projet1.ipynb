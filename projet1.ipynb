{
 "cells": [
  {
   "cell_type": "markdown",
   "id": "a224d5e4",
   "metadata": {},
   "source": [
    "# Projet 1 : Les aventures d'une petite librairie en ligne\n",
    "- Il était une fois une petite librairie en ligne, « Livre d’Or », dirigée par Monsieur Livres, un passionné de lecture. Chaque mois, il reçoit des commandes de tous les coins du pays, mais il a du mal à savoir quelles catégories de livres se vendent le mieux et si ses promotions sont vraiment efficaces.\n",
    "- Récemment, Monsieur Livres a remarqué une baisse dans ses ventes et se demande s’il devrait ajuster ses offres ou réorganiser son stock. Il aimerait comprendre quelles catégories attirent le plus ses clients et comment les promotions influencent les ventes.\n",
    "##### Votre mission en tant que data analyst : Monsieur Livres vous a confié les données de vente des six derniers mois. Il vous demande d’analyser :\n",
    "- La quantité de livres vendus chaque mois.\n",
    "- Les catégories de livres les plus populaires.\n",
    "- L’impact des promotions sur les ventes.\n",
    "\n",
    "### Objectifs :\n",
    "- Calculer les ventes totales par mois.\n",
    "- Identifier les catégories de livres les plus vendues.\n",
    "- Visualiser la répartition des ventes par mois.\n",
    "- Visualiser la répartition des ventes par catégorie.\n",
    "## Jeu de données : librairie_ventes.csv\n",
    "- Order ID : Identifiant unique de la commande (entier).\n",
    "- Order Date : Date de la commande (chaîne de caractères, format YYYY-MM).\n",
    "- Book Category : Catégorie du livre (chaîne de caractères).\n",
    "- Price : Prix unitaire du livre (flottant).\n",
    "- Quantity : Quantité commandée (entier)."
   ]
  },
  {
   "cell_type": "code",
   "execution_count": 1,
   "id": "5cf71501",
   "metadata": {},
   "outputs": [],
   "source": [
    "import pandas as pd\n",
    "import matplotlib.pyplot as plt"
   ]
  },
  {
   "cell_type": "code",
   "execution_count": 2,
   "id": "bfd92e4b",
   "metadata": {},
   "outputs": [],
   "source": [
    "# Charger le fichier excel\n",
    "df = pd.read_excel('librairie_ventes.xlsx')"
   ]
  },
  {
   "cell_type": "code",
   "execution_count": 3,
   "id": "2df2c71b",
   "metadata": {},
   "outputs": [
    {
     "data": {
      "text/html": [
       "<div>\n",
       "<style scoped>\n",
       "    .dataframe tbody tr th:only-of-type {\n",
       "        vertical-align: middle;\n",
       "    }\n",
       "\n",
       "    .dataframe tbody tr th {\n",
       "        vertical-align: top;\n",
       "    }\n",
       "\n",
       "    .dataframe thead th {\n",
       "        text-align: right;\n",
       "    }\n",
       "</style>\n",
       "<table border=\"1\" class=\"dataframe\">\n",
       "  <thead>\n",
       "    <tr style=\"text-align: right;\">\n",
       "      <th></th>\n",
       "      <th>Order ID</th>\n",
       "      <th>Order Date</th>\n",
       "      <th>Book Category</th>\n",
       "      <th>Price</th>\n",
       "      <th>Quantity</th>\n",
       "    </tr>\n",
       "  </thead>\n",
       "  <tbody>\n",
       "    <tr>\n",
       "      <th>0</th>\n",
       "      <td>101</td>\n",
       "      <td>2024-01</td>\n",
       "      <td>Fiction</td>\n",
       "      <td>12.99</td>\n",
       "      <td>2</td>\n",
       "    </tr>\n",
       "    <tr>\n",
       "      <th>1</th>\n",
       "      <td>102</td>\n",
       "      <td>2024-02</td>\n",
       "      <td>Science</td>\n",
       "      <td>9.50</td>\n",
       "      <td>1</td>\n",
       "    </tr>\n",
       "    <tr>\n",
       "      <th>2</th>\n",
       "      <td>103</td>\n",
       "      <td>2024-01</td>\n",
       "      <td>History</td>\n",
       "      <td>15.00</td>\n",
       "      <td>3</td>\n",
       "    </tr>\n",
       "    <tr>\n",
       "      <th>3</th>\n",
       "      <td>104</td>\n",
       "      <td>2024-03</td>\n",
       "      <td>Mathematique</td>\n",
       "      <td>18.00</td>\n",
       "      <td>2</td>\n",
       "    </tr>\n",
       "    <tr>\n",
       "      <th>4</th>\n",
       "      <td>105</td>\n",
       "      <td>2024-01</td>\n",
       "      <td>Geographie</td>\n",
       "      <td>15.00</td>\n",
       "      <td>3</td>\n",
       "    </tr>\n",
       "    <tr>\n",
       "      <th>5</th>\n",
       "      <td>106</td>\n",
       "      <td>2024-02</td>\n",
       "      <td>Science</td>\n",
       "      <td>9.50</td>\n",
       "      <td>1</td>\n",
       "    </tr>\n",
       "    <tr>\n",
       "      <th>6</th>\n",
       "      <td>107</td>\n",
       "      <td>2024-03</td>\n",
       "      <td>Mathematique</td>\n",
       "      <td>18.00</td>\n",
       "      <td>4</td>\n",
       "    </tr>\n",
       "    <tr>\n",
       "      <th>7</th>\n",
       "      <td>108</td>\n",
       "      <td>2024-04</td>\n",
       "      <td>History</td>\n",
       "      <td>15.00</td>\n",
       "      <td>2</td>\n",
       "    </tr>\n",
       "  </tbody>\n",
       "</table>\n",
       "</div>"
      ],
      "text/plain": [
       "   Order ID Order Date Book Category  Price  Quantity\n",
       "0       101    2024-01       Fiction  12.99         2\n",
       "1       102    2024-02       Science   9.50         1\n",
       "2       103    2024-01       History  15.00         3\n",
       "3       104    2024-03  Mathematique  18.00         2\n",
       "4       105    2024-01    Geographie  15.00         3\n",
       "5       106    2024-02       Science   9.50         1\n",
       "6       107    2024-03  Mathematique  18.00         4\n",
       "7       108    2024-04       History  15.00         2"
      ]
     },
     "execution_count": 3,
     "metadata": {},
     "output_type": "execute_result"
    }
   ],
   "source": [
    "df"
   ]
  },
  {
   "cell_type": "code",
   "execution_count": 4,
   "id": "b0c4debf",
   "metadata": {},
   "outputs": [],
   "source": [
    "# Calculer les ventes totales par mois\n",
    "df['Total Sales'] = df['Price'] * df['Quantity']"
   ]
  },
  {
   "cell_type": "code",
   "execution_count": 5,
   "id": "60cb123d",
   "metadata": {},
   "outputs": [
    {
     "data": {
      "text/html": [
       "<div>\n",
       "<style scoped>\n",
       "    .dataframe tbody tr th:only-of-type {\n",
       "        vertical-align: middle;\n",
       "    }\n",
       "\n",
       "    .dataframe tbody tr th {\n",
       "        vertical-align: top;\n",
       "    }\n",
       "\n",
       "    .dataframe thead th {\n",
       "        text-align: right;\n",
       "    }\n",
       "</style>\n",
       "<table border=\"1\" class=\"dataframe\">\n",
       "  <thead>\n",
       "    <tr style=\"text-align: right;\">\n",
       "      <th></th>\n",
       "      <th>Order ID</th>\n",
       "      <th>Order Date</th>\n",
       "      <th>Book Category</th>\n",
       "      <th>Price</th>\n",
       "      <th>Quantity</th>\n",
       "      <th>Total Sales</th>\n",
       "    </tr>\n",
       "  </thead>\n",
       "  <tbody>\n",
       "    <tr>\n",
       "      <th>0</th>\n",
       "      <td>101</td>\n",
       "      <td>2024-01</td>\n",
       "      <td>Fiction</td>\n",
       "      <td>12.99</td>\n",
       "      <td>2</td>\n",
       "      <td>25.98</td>\n",
       "    </tr>\n",
       "    <tr>\n",
       "      <th>1</th>\n",
       "      <td>102</td>\n",
       "      <td>2024-02</td>\n",
       "      <td>Science</td>\n",
       "      <td>9.50</td>\n",
       "      <td>1</td>\n",
       "      <td>9.50</td>\n",
       "    </tr>\n",
       "    <tr>\n",
       "      <th>2</th>\n",
       "      <td>103</td>\n",
       "      <td>2024-01</td>\n",
       "      <td>History</td>\n",
       "      <td>15.00</td>\n",
       "      <td>3</td>\n",
       "      <td>45.00</td>\n",
       "    </tr>\n",
       "    <tr>\n",
       "      <th>3</th>\n",
       "      <td>104</td>\n",
       "      <td>2024-03</td>\n",
       "      <td>Mathematique</td>\n",
       "      <td>18.00</td>\n",
       "      <td>2</td>\n",
       "      <td>36.00</td>\n",
       "    </tr>\n",
       "    <tr>\n",
       "      <th>4</th>\n",
       "      <td>105</td>\n",
       "      <td>2024-01</td>\n",
       "      <td>Geographie</td>\n",
       "      <td>15.00</td>\n",
       "      <td>3</td>\n",
       "      <td>45.00</td>\n",
       "    </tr>\n",
       "    <tr>\n",
       "      <th>5</th>\n",
       "      <td>106</td>\n",
       "      <td>2024-02</td>\n",
       "      <td>Science</td>\n",
       "      <td>9.50</td>\n",
       "      <td>1</td>\n",
       "      <td>9.50</td>\n",
       "    </tr>\n",
       "    <tr>\n",
       "      <th>6</th>\n",
       "      <td>107</td>\n",
       "      <td>2024-03</td>\n",
       "      <td>Mathematique</td>\n",
       "      <td>18.00</td>\n",
       "      <td>4</td>\n",
       "      <td>72.00</td>\n",
       "    </tr>\n",
       "    <tr>\n",
       "      <th>7</th>\n",
       "      <td>108</td>\n",
       "      <td>2024-04</td>\n",
       "      <td>History</td>\n",
       "      <td>15.00</td>\n",
       "      <td>2</td>\n",
       "      <td>30.00</td>\n",
       "    </tr>\n",
       "  </tbody>\n",
       "</table>\n",
       "</div>"
      ],
      "text/plain": [
       "   Order ID Order Date Book Category  Price  Quantity  Total Sales\n",
       "0       101    2024-01       Fiction  12.99         2        25.98\n",
       "1       102    2024-02       Science   9.50         1         9.50\n",
       "2       103    2024-01       History  15.00         3        45.00\n",
       "3       104    2024-03  Mathematique  18.00         2        36.00\n",
       "4       105    2024-01    Geographie  15.00         3        45.00\n",
       "5       106    2024-02       Science   9.50         1         9.50\n",
       "6       107    2024-03  Mathematique  18.00         4        72.00\n",
       "7       108    2024-04       History  15.00         2        30.00"
      ]
     },
     "execution_count": 5,
     "metadata": {},
     "output_type": "execute_result"
    }
   ],
   "source": [
    "df"
   ]
  },
  {
   "cell_type": "code",
   "execution_count": 6,
   "id": "4fe06bef",
   "metadata": {},
   "outputs": [
    {
     "data": {
      "text/plain": [
       "Order Date\n",
       "2024-01    8\n",
       "2024-02    2\n",
       "2024-03    6\n",
       "2024-04    2\n",
       "Name: Quantity, dtype: int64"
      ]
     },
     "execution_count": 6,
     "metadata": {},
     "output_type": "execute_result"
    }
   ],
   "source": [
    "ventes_par_mois = df.groupby('Order Date')['Quantity'].sum()\n",
    "ventes_par_mois"
   ]
  },
  {
   "cell_type": "code",
   "execution_count": 8,
   "id": "6b4108be",
   "metadata": {},
   "outputs": [
    {
     "data": {
      "image/png": "[encoded data removed]",
      "text/plain": [
       "<Figure size 640x480 with 1 Axes>"
      ]
     },
     "metadata": {},
     "output_type": "display_data"
    }
   ],
   "source": [
    "# Visualiser la répartition des ventes par mois\n",
    "ventes_par_mois.plot(kind='bar', title='Répartition des ventes par mois')\n",
    "plt.ylabel('Total de livre vendu par mois ')\n",
    "plt.show()"
   ]
  },
  {
   "cell_type": "code",
   "execution_count": 9,
   "id": "3cc94f71",
   "metadata": {},
   "outputs": [
    {
     "data": {
      "text/plain": [
       "Book Category\n",
       "Fiction         2\n",
       "Geographie      3\n",
       "History         5\n",
       "Mathematique    6\n",
       "Science         2\n",
       "Name: Quantity, dtype: int64"
      ]
     },
     "execution_count": 9,
     "metadata": {},
     "output_type": "execute_result"
    }
   ],
   "source": [
    "# Identifier les catégories de livres les plus vendues\n",
    "ventes_par_categorie = df.groupby('Book Category')['Quantity'].sum()\n",
    "ventes_par_categorie"
   ]
  },
  {
   "cell_type": "code",
   "execution_count": 10,
   "id": "93661b51",
   "metadata": {},
   "outputs": [
    {
     "data": {
      "image/png": "[encoded data removed]",
      "text/plain": [
       "<Figure size 640x480 with 1 Axes>"
      ]
     },
     "metadata": {},
     "output_type": "display_data"
    }
   ],
   "source": [
    "# Visualiser la répartition des ventes par catégorie\n",
    "ventes_par_categorie.plot(kind='bar', title='Répartition des ventes par catégorie')\n",
    "plt.ylabel('Total des livre vendu par mois')\n",
    "plt.show()\n"
   ]
  },
  {
   "cell_type": "code",
   "execution_count": null,
   "id": "f0859d03",
   "metadata": {},
   "outputs": [],
   "source": []
  }
 ],
 "metadata": {
  "kernelspec": {
   "display_name": "Python 3 (ipykernel)",
   "language": "python",
   "name": "python3"
  },
  "language_info": {
   "codemirror_mode": {
    "name": "ipython",
    "version": 3
   },
   "file_extension": ".py",
   "mimetype": "text/x-python",
   "name": "python",
   "nbconvert_exporter": "python",
   "pygments_lexer": "ipython3",
   "version": "3.11.7"
  }
 },
 "nbformat": 4,
 "nbformat_minor": 5
}
