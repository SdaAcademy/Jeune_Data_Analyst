{
 "cells": [
  {
   "cell_type": "markdown",
   "id": "8e64183e",
   "metadata": {},
   "source": [
    "# Grand Projet : Analyse des performances d’une chaîne de supermarchés en expansion"
   ]
  },
  {
   "cell_type": "markdown",
   "id": "ae8e72dc",
   "metadata": {},
   "source": [
    "### Contexte :\n",
    "- La chaîne de supermarchés « Super-Achats » s’est rapidement développée dans plusieurs villes, mais elle doit mieux comprendre ses ventes, ses clients, et ses performances globales pour rester compétitive.\n",
    "- Le directeur, Monsieur **Chris**, a rassemblé des données sur les ventes de ses supermarchés, les catégories de produits, les performances de ses employés, et les retours clients pour la dernière année. \n",
    "- Il vous demande de fournir un rapport complet afin de l’aider à prendre des décisions stratégiques.\n"
   ]
  },
  {
   "cell_type": "markdown",
   "id": "ab05e075",
   "metadata": {},
   "source": [
    "## Objectifs généraux :\n",
    "En tant que data analyst, votre mission est de :\n",
    "- Analyser les ventes mensuelles pour chaque supermarché.\n",
    "- Identifier les catégories de produits les plus vendues.\n",
    "- Étudier la répartition des dépenses des clients par catégorie.\n",
    "- Visualiser la performance des employés (ventes, service client, etc.).\n",
    "- Analyser les retours clients pour comprendre les mois les plus satisfaisants ou problématiques.\n",
    "- Recommander des stratégies d'amélioration basées sur les analyses.\n"
   ]
  },
  {
   "cell_type": "markdown",
   "id": "f402d704",
   "metadata": {},
   "source": [
    "#### Données  pour ce projet :\n",
    "### Ventes :\n",
    "- Store_ID: Identifiant du supermarché\n",
    "- Date: Date de la vente\n",
    "- Product_Category: Catégorie de produit\n",
    "- Quantity: Quantité vendue\n",
    "- Price: Prix unitaire\n",
    "- Total_Sales: Calcul automatique (Prix x Quantité)\n",
    "\n",
    "### Employés :\n",
    "- Employee_ID: Identifiant de l'employé\n",
    "- Store_ID: Identifiant du supermarché\n",
    "- Employee_Name: Nom de l'employé\n",
    "- Sales_Made: Ventes réalisées par l’employé\n",
    "- Customer_Satisfaction: Score de satisfaction client (1-10)\n",
    "\n",
    "### Clients :\n",
    "- Client_ID: Identifiant du client\n",
    "- Store_ID: Identifiant du supermarché\n",
    "- Spent: Montant total dépensé\n",
    "- Product_Category: Catégorie de produit acheté\n",
    "- Satisfaction_Score: Score de satisfaction donné par le client (1-10)\n"
   ]
  },
  {
   "cell_type": "markdown",
   "id": "a354e133",
   "metadata": {},
   "source": [
    "# Solution détaillée du grand projet :"
   ]
  },
  {
   "cell_type": "markdown",
   "id": "2004e290",
   "metadata": {},
   "source": [
    "### Étape 1 : Charger les données et les nettoyer"
   ]
  },
  {
   "cell_type": "code",
   "execution_count": 1,
   "id": "8becdfb6",
   "metadata": {},
   "outputs": [],
   "source": [
    "# importation des bibliothèques\n",
    "import pandas as pd\n",
    "import numpy as np\n",
    "import matplotlib.pyplot as plt\n"
   ]
  },
  {
   "cell_type": "code",
   "execution_count": 2,
   "id": "447b6d37",
   "metadata": {},
   "outputs": [],
   "source": [
    "# Charger les fichiers excel\n",
    "df_ventes = pd.read_excel('supermarche_ventes.xlsx')\n",
    "df_employes = pd.read_excel('supermarche_employes.xlsx')\n",
    "df_clients = pd.read_excel('supermarche_clients.xlsx')\n"
   ]
  },
  {
   "cell_type": "code",
   "execution_count": 3,
   "id": "fc773744",
   "metadata": {},
   "outputs": [
    {
     "data": {
      "text/html": [
       "<div>\n",
       "<style scoped>\n",
       "    .dataframe tbody tr th:only-of-type {\n",
       "        vertical-align: middle;\n",
       "    }\n",
       "\n",
       "    .dataframe tbody tr th {\n",
       "        vertical-align: top;\n",
       "    }\n",
       "\n",
       "    .dataframe thead th {\n",
       "        text-align: right;\n",
       "    }\n",
       "</style>\n",
       "<table border=\"1\" class=\"dataframe\">\n",
       "  <thead>\n",
       "    <tr style=\"text-align: right;\">\n",
       "      <th></th>\n",
       "      <th>Store_ID</th>\n",
       "      <th>Date</th>\n",
       "      <th>Product_Category</th>\n",
       "      <th>Quantity</th>\n",
       "      <th>Price</th>\n",
       "    </tr>\n",
       "  </thead>\n",
       "  <tbody>\n",
       "    <tr>\n",
       "      <th>0</th>\n",
       "      <td>1</td>\n",
       "      <td>2023-01-05</td>\n",
       "      <td>Electronics</td>\n",
       "      <td>3</td>\n",
       "      <td>50.0</td>\n",
       "    </tr>\n",
       "    <tr>\n",
       "      <th>1</th>\n",
       "      <td>2</td>\n",
       "      <td>2023-01-07</td>\n",
       "      <td>Groceries</td>\n",
       "      <td>10</td>\n",
       "      <td>5.0</td>\n",
       "    </tr>\n",
       "    <tr>\n",
       "      <th>2</th>\n",
       "      <td>1</td>\n",
       "      <td>2023-02-10</td>\n",
       "      <td>Clothing</td>\n",
       "      <td>2</td>\n",
       "      <td>30.0</td>\n",
       "    </tr>\n",
       "    <tr>\n",
       "      <th>3</th>\n",
       "      <td>3</td>\n",
       "      <td>2023-03-12</td>\n",
       "      <td>Furniture</td>\n",
       "      <td>1</td>\n",
       "      <td>150.0</td>\n",
       "    </tr>\n",
       "    <tr>\n",
       "      <th>4</th>\n",
       "      <td>2</td>\n",
       "      <td>2023-04-18</td>\n",
       "      <td>Groceries</td>\n",
       "      <td>8</td>\n",
       "      <td>7.5</td>\n",
       "    </tr>\n",
       "    <tr>\n",
       "      <th>5</th>\n",
       "      <td>4</td>\n",
       "      <td>2023-05-21</td>\n",
       "      <td>Electronics</td>\n",
       "      <td>5</td>\n",
       "      <td>40.0</td>\n",
       "    </tr>\n",
       "  </tbody>\n",
       "</table>\n",
       "</div>"
      ],
      "text/plain": [
       "   Store_ID       Date Product_Category  Quantity  Price\n",
       "0         1 2023-01-05      Electronics         3   50.0\n",
       "1         2 2023-01-07        Groceries        10    5.0\n",
       "2         1 2023-02-10         Clothing         2   30.0\n",
       "3         3 2023-03-12        Furniture         1  150.0\n",
       "4         2 2023-04-18        Groceries         8    7.5\n",
       "5         4 2023-05-21      Electronics         5   40.0"
      ]
     },
     "execution_count": 3,
     "metadata": {},
     "output_type": "execute_result"
    }
   ],
   "source": [
    "# Afficher un aperçu des données de vente\n",
    "df_ventes"
   ]
  },
  {
   "cell_type": "code",
   "execution_count": 4,
   "id": "d611841d",
   "metadata": {},
   "outputs": [
    {
     "data": {
      "text/plain": [
       "(6, 5)"
      ]
     },
     "execution_count": 4,
     "metadata": {},
     "output_type": "execute_result"
    }
   ],
   "source": [
    "#dimension du tableau\n",
    "df_ventes.shape"
   ]
  },
  {
   "cell_type": "code",
   "execution_count": 5,
   "id": "503ca20d",
   "metadata": {},
   "outputs": [
    {
     "data": {
      "text/html": [
       "<div>\n",
       "<style scoped>\n",
       "    .dataframe tbody tr th:only-of-type {\n",
       "        vertical-align: middle;\n",
       "    }\n",
       "\n",
       "    .dataframe tbody tr th {\n",
       "        vertical-align: top;\n",
       "    }\n",
       "\n",
       "    .dataframe thead th {\n",
       "        text-align: right;\n",
       "    }\n",
       "</style>\n",
       "<table border=\"1\" class=\"dataframe\">\n",
       "  <thead>\n",
       "    <tr style=\"text-align: right;\">\n",
       "      <th></th>\n",
       "      <th>Store_ID</th>\n",
       "      <th>Date</th>\n",
       "      <th>Quantity</th>\n",
       "      <th>Price</th>\n",
       "    </tr>\n",
       "  </thead>\n",
       "  <tbody>\n",
       "    <tr>\n",
       "      <th>count</th>\n",
       "      <td>6.000000</td>\n",
       "      <td>6</td>\n",
       "      <td>6.000000</td>\n",
       "      <td>6.000000</td>\n",
       "    </tr>\n",
       "    <tr>\n",
       "      <th>mean</th>\n",
       "      <td>2.166667</td>\n",
       "      <td>2023-03-03 04:00:00</td>\n",
       "      <td>4.833333</td>\n",
       "      <td>47.083333</td>\n",
       "    </tr>\n",
       "    <tr>\n",
       "      <th>min</th>\n",
       "      <td>1.000000</td>\n",
       "      <td>2023-01-05 00:00:00</td>\n",
       "      <td>1.000000</td>\n",
       "      <td>5.000000</td>\n",
       "    </tr>\n",
       "    <tr>\n",
       "      <th>25%</th>\n",
       "      <td>1.250000</td>\n",
       "      <td>2023-01-15 12:00:00</td>\n",
       "      <td>2.250000</td>\n",
       "      <td>13.125000</td>\n",
       "    </tr>\n",
       "    <tr>\n",
       "      <th>50%</th>\n",
       "      <td>2.000000</td>\n",
       "      <td>2023-02-25 00:00:00</td>\n",
       "      <td>4.000000</td>\n",
       "      <td>35.000000</td>\n",
       "    </tr>\n",
       "    <tr>\n",
       "      <th>75%</th>\n",
       "      <td>2.750000</td>\n",
       "      <td>2023-04-08 18:00:00</td>\n",
       "      <td>7.250000</td>\n",
       "      <td>47.500000</td>\n",
       "    </tr>\n",
       "    <tr>\n",
       "      <th>max</th>\n",
       "      <td>4.000000</td>\n",
       "      <td>2023-05-21 00:00:00</td>\n",
       "      <td>10.000000</td>\n",
       "      <td>150.000000</td>\n",
       "    </tr>\n",
       "    <tr>\n",
       "      <th>std</th>\n",
       "      <td>1.169045</td>\n",
       "      <td>NaN</td>\n",
       "      <td>3.544949</td>\n",
       "      <td>53.441947</td>\n",
       "    </tr>\n",
       "  </tbody>\n",
       "</table>\n",
       "</div>"
      ],
      "text/plain": [
       "       Store_ID                 Date   Quantity       Price\n",
       "count  6.000000                    6   6.000000    6.000000\n",
       "mean   2.166667  2023-03-03 04:00:00   4.833333   47.083333\n",
       "min    1.000000  2023-01-05 00:00:00   1.000000    5.000000\n",
       "25%    1.250000  2023-01-15 12:00:00   2.250000   13.125000\n",
       "50%    2.000000  2023-02-25 00:00:00   4.000000   35.000000\n",
       "75%    2.750000  2023-04-08 18:00:00   7.250000   47.500000\n",
       "max    4.000000  2023-05-21 00:00:00  10.000000  150.000000\n",
       "std    1.169045                  NaN   3.544949   53.441947"
      ]
     },
     "execution_count": 5,
     "metadata": {},
     "output_type": "execute_result"
    }
   ],
   "source": [
    "#description rapide de la base\n",
    "df_ventes.describe()"
   ]
  },
  {
   "cell_type": "code",
   "execution_count": 8,
   "id": "683ca0d2",
   "metadata": {},
   "outputs": [
    {
     "data": {
      "text/html": [
       "<div>\n",
       "<style scoped>\n",
       "    .dataframe tbody tr th:only-of-type {\n",
       "        vertical-align: middle;\n",
       "    }\n",
       "\n",
       "    .dataframe tbody tr th {\n",
       "        vertical-align: top;\n",
       "    }\n",
       "\n",
       "    .dataframe thead th {\n",
       "        text-align: right;\n",
       "    }\n",
       "</style>\n",
       "<table border=\"1\" class=\"dataframe\">\n",
       "  <thead>\n",
       "    <tr style=\"text-align: right;\">\n",
       "      <th></th>\n",
       "      <th>Store_ID</th>\n",
       "      <th>Date</th>\n",
       "      <th>Product_Category</th>\n",
       "      <th>Quantity</th>\n",
       "      <th>Price</th>\n",
       "      <th>Total_Sales</th>\n",
       "    </tr>\n",
       "  </thead>\n",
       "  <tbody>\n",
       "    <tr>\n",
       "      <th>count</th>\n",
       "      <td>6.000000</td>\n",
       "      <td>6</td>\n",
       "      <td>6</td>\n",
       "      <td>6.000000</td>\n",
       "      <td>6.000000</td>\n",
       "      <td>6.000000</td>\n",
       "    </tr>\n",
       "    <tr>\n",
       "      <th>unique</th>\n",
       "      <td>NaN</td>\n",
       "      <td>NaN</td>\n",
       "      <td>4</td>\n",
       "      <td>NaN</td>\n",
       "      <td>NaN</td>\n",
       "      <td>NaN</td>\n",
       "    </tr>\n",
       "    <tr>\n",
       "      <th>top</th>\n",
       "      <td>NaN</td>\n",
       "      <td>NaN</td>\n",
       "      <td>Electronics</td>\n",
       "      <td>NaN</td>\n",
       "      <td>NaN</td>\n",
       "      <td>NaN</td>\n",
       "    </tr>\n",
       "    <tr>\n",
       "      <th>freq</th>\n",
       "      <td>NaN</td>\n",
       "      <td>NaN</td>\n",
       "      <td>2</td>\n",
       "      <td>NaN</td>\n",
       "      <td>NaN</td>\n",
       "      <td>NaN</td>\n",
       "    </tr>\n",
       "    <tr>\n",
       "      <th>mean</th>\n",
       "      <td>2.166667</td>\n",
       "      <td>2023-03-03 04:00:00</td>\n",
       "      <td>NaN</td>\n",
       "      <td>4.833333</td>\n",
       "      <td>47.083333</td>\n",
       "      <td>111.666667</td>\n",
       "    </tr>\n",
       "    <tr>\n",
       "      <th>min</th>\n",
       "      <td>1.000000</td>\n",
       "      <td>2023-01-05 00:00:00</td>\n",
       "      <td>NaN</td>\n",
       "      <td>1.000000</td>\n",
       "      <td>5.000000</td>\n",
       "      <td>50.000000</td>\n",
       "    </tr>\n",
       "    <tr>\n",
       "      <th>25%</th>\n",
       "      <td>1.250000</td>\n",
       "      <td>2023-01-15 12:00:00</td>\n",
       "      <td>NaN</td>\n",
       "      <td>2.250000</td>\n",
       "      <td>13.125000</td>\n",
       "      <td>60.000000</td>\n",
       "    </tr>\n",
       "    <tr>\n",
       "      <th>50%</th>\n",
       "      <td>2.000000</td>\n",
       "      <td>2023-02-25 00:00:00</td>\n",
       "      <td>NaN</td>\n",
       "      <td>4.000000</td>\n",
       "      <td>35.000000</td>\n",
       "      <td>105.000000</td>\n",
       "    </tr>\n",
       "    <tr>\n",
       "      <th>75%</th>\n",
       "      <td>2.750000</td>\n",
       "      <td>2023-04-08 18:00:00</td>\n",
       "      <td>NaN</td>\n",
       "      <td>7.250000</td>\n",
       "      <td>47.500000</td>\n",
       "      <td>150.000000</td>\n",
       "    </tr>\n",
       "    <tr>\n",
       "      <th>max</th>\n",
       "      <td>4.000000</td>\n",
       "      <td>2023-05-21 00:00:00</td>\n",
       "      <td>NaN</td>\n",
       "      <td>10.000000</td>\n",
       "      <td>150.000000</td>\n",
       "      <td>200.000000</td>\n",
       "    </tr>\n",
       "    <tr>\n",
       "      <th>std</th>\n",
       "      <td>1.169045</td>\n",
       "      <td>NaN</td>\n",
       "      <td>NaN</td>\n",
       "      <td>3.544949</td>\n",
       "      <td>53.441947</td>\n",
       "      <td>63.060817</td>\n",
       "    </tr>\n",
       "  </tbody>\n",
       "</table>\n",
       "</div>"
      ],
      "text/plain": [
       "        Store_ID                 Date Product_Category   Quantity       Price  \\\n",
       "count   6.000000                    6                6   6.000000    6.000000   \n",
       "unique       NaN                  NaN                4        NaN         NaN   \n",
       "top          NaN                  NaN      Electronics        NaN         NaN   \n",
       "freq         NaN                  NaN                2        NaN         NaN   \n",
       "mean    2.166667  2023-03-03 04:00:00              NaN   4.833333   47.083333   \n",
       "min     1.000000  2023-01-05 00:00:00              NaN   1.000000    5.000000   \n",
       "25%     1.250000  2023-01-15 12:00:00              NaN   2.250000   13.125000   \n",
       "50%     2.000000  2023-02-25 00:00:00              NaN   4.000000   35.000000   \n",
       "75%     2.750000  2023-04-08 18:00:00              NaN   7.250000   47.500000   \n",
       "max     4.000000  2023-05-21 00:00:00              NaN  10.000000  150.000000   \n",
       "std     1.169045                  NaN              NaN   3.544949   53.441947   \n",
       "\n",
       "        Total_Sales  \n",
       "count      6.000000  \n",
       "unique          NaN  \n",
       "top             NaN  \n",
       "freq            NaN  \n",
       "mean     111.666667  \n",
       "min       50.000000  \n",
       "25%       60.000000  \n",
       "50%      105.000000  \n",
       "75%      150.000000  \n",
       "max      200.000000  \n",
       "std       63.060817  "
      ]
     },
     "execution_count": 8,
     "metadata": {},
     "output_type": "execute_result"
    }
   ],
   "source": [
    "df_ventes.describe(include = \"all\")"
   ]
  },
  {
   "cell_type": "code",
   "execution_count": 9,
   "id": "9816f9ab",
   "metadata": {},
   "outputs": [
    {
     "data": {
      "text/plain": [
       "0    Electronics\n",
       "1      Groceries\n",
       "2       Clothing\n",
       "3      Furniture\n",
       "4      Groceries\n",
       "5    Electronics\n",
       "Name: Product_Category, dtype: object"
      ]
     },
     "execution_count": 9,
     "metadata": {},
     "output_type": "execute_result"
    }
   ],
   "source": [
    "df_ventes[\"Product_Category\"]"
   ]
  },
  {
   "cell_type": "code",
   "execution_count": 10,
   "id": "8e2a98f9",
   "metadata": {},
   "outputs": [
    {
     "data": {
      "text/plain": [
       "array(['Electronics', 'Groceries', 'Clothing', 'Furniture'], dtype=object)"
      ]
     },
     "execution_count": 10,
     "metadata": {},
     "output_type": "execute_result"
    }
   ],
   "source": [
    "df_ventes[\"Product_Category\"].unique()"
   ]
  },
  {
   "cell_type": "code",
   "execution_count": 11,
   "id": "af00db34",
   "metadata": {},
   "outputs": [
    {
     "data": {
      "text/plain": [
       "Product_Category\n",
       "Electronics    2\n",
       "Groceries      2\n",
       "Clothing       1\n",
       "Furniture      1\n",
       "Name: count, dtype: int64"
      ]
     },
     "execution_count": 11,
     "metadata": {},
     "output_type": "execute_result"
    }
   ],
   "source": [
    "df_ventes[\"Product_Category\"].value_counts()"
   ]
  },
  {
   "cell_type": "code",
   "execution_count": 12,
   "id": "e1ceee83",
   "metadata": {},
   "outputs": [
    {
     "data": {
      "text/html": [
       "<div>\n",
       "<style scoped>\n",
       "    .dataframe tbody tr th:only-of-type {\n",
       "        vertical-align: middle;\n",
       "    }\n",
       "\n",
       "    .dataframe tbody tr th {\n",
       "        vertical-align: top;\n",
       "    }\n",
       "\n",
       "    .dataframe thead th {\n",
       "        text-align: right;\n",
       "    }\n",
       "</style>\n",
       "<table border=\"1\" class=\"dataframe\">\n",
       "  <thead>\n",
       "    <tr style=\"text-align: right;\">\n",
       "      <th></th>\n",
       "      <th>Employee_ID</th>\n",
       "      <th>Store_ID</th>\n",
       "      <th>Employee_Name</th>\n",
       "      <th>Sales_Made</th>\n",
       "      <th>Customer_Satisfaction</th>\n",
       "    </tr>\n",
       "  </thead>\n",
       "  <tbody>\n",
       "    <tr>\n",
       "      <th>0</th>\n",
       "      <td>1</td>\n",
       "      <td>1</td>\n",
       "      <td>Alice</td>\n",
       "      <td>1500</td>\n",
       "      <td>8.5</td>\n",
       "    </tr>\n",
       "    <tr>\n",
       "      <th>1</th>\n",
       "      <td>2</td>\n",
       "      <td>2</td>\n",
       "      <td>Bob</td>\n",
       "      <td>2000</td>\n",
       "      <td>7.0</td>\n",
       "    </tr>\n",
       "    <tr>\n",
       "      <th>2</th>\n",
       "      <td>3</td>\n",
       "      <td>3</td>\n",
       "      <td>Charlie</td>\n",
       "      <td>1800</td>\n",
       "      <td>9.0</td>\n",
       "    </tr>\n",
       "    <tr>\n",
       "      <th>3</th>\n",
       "      <td>4</td>\n",
       "      <td>4</td>\n",
       "      <td>Diana</td>\n",
       "      <td>2200</td>\n",
       "      <td>8.0</td>\n",
       "    </tr>\n",
       "    <tr>\n",
       "      <th>4</th>\n",
       "      <td>5</td>\n",
       "      <td>2</td>\n",
       "      <td>Edward</td>\n",
       "      <td>1700</td>\n",
       "      <td>6.5</td>\n",
       "    </tr>\n",
       "  </tbody>\n",
       "</table>\n",
       "</div>"
      ],
      "text/plain": [
       "   Employee_ID  Store_ID Employee_Name  Sales_Made  Customer_Satisfaction\n",
       "0            1         1         Alice        1500                    8.5\n",
       "1            2         2           Bob        2000                    7.0\n",
       "2            3         3       Charlie        1800                    9.0\n",
       "3            4         4         Diana        2200                    8.0\n",
       "4            5         2        Edward        1700                    6.5"
      ]
     },
     "execution_count": 12,
     "metadata": {},
     "output_type": "execute_result"
    }
   ],
   "source": [
    "# Afficher un aperçu des données des employes\n",
    "df_employes\n"
   ]
  },
  {
   "cell_type": "code",
   "execution_count": 13,
   "id": "77909274",
   "metadata": {},
   "outputs": [
    {
     "data": {
      "text/html": [
       "<div>\n",
       "<style scoped>\n",
       "    .dataframe tbody tr th:only-of-type {\n",
       "        vertical-align: middle;\n",
       "    }\n",
       "\n",
       "    .dataframe tbody tr th {\n",
       "        vertical-align: top;\n",
       "    }\n",
       "\n",
       "    .dataframe thead th {\n",
       "        text-align: right;\n",
       "    }\n",
       "</style>\n",
       "<table border=\"1\" class=\"dataframe\">\n",
       "  <thead>\n",
       "    <tr style=\"text-align: right;\">\n",
       "      <th></th>\n",
       "      <th>Client_ID</th>\n",
       "      <th>Store_ID</th>\n",
       "      <th>Date</th>\n",
       "      <th>Spent</th>\n",
       "      <th>Product_Category</th>\n",
       "      <th>Satisfaction_Score</th>\n",
       "    </tr>\n",
       "  </thead>\n",
       "  <tbody>\n",
       "    <tr>\n",
       "      <th>0</th>\n",
       "      <td>1</td>\n",
       "      <td>1</td>\n",
       "      <td>2023-01-05</td>\n",
       "      <td>100.0</td>\n",
       "      <td>Electronics</td>\n",
       "      <td>9.0</td>\n",
       "    </tr>\n",
       "    <tr>\n",
       "      <th>1</th>\n",
       "      <td>2</td>\n",
       "      <td>2</td>\n",
       "      <td>2023-01-07</td>\n",
       "      <td>35.0</td>\n",
       "      <td>Groceries</td>\n",
       "      <td>8.0</td>\n",
       "    </tr>\n",
       "    <tr>\n",
       "      <th>2</th>\n",
       "      <td>3</td>\n",
       "      <td>1</td>\n",
       "      <td>2023-02-10</td>\n",
       "      <td>60.0</td>\n",
       "      <td>Clothing</td>\n",
       "      <td>7.5</td>\n",
       "    </tr>\n",
       "    <tr>\n",
       "      <th>3</th>\n",
       "      <td>4</td>\n",
       "      <td>3</td>\n",
       "      <td>2023-03-12</td>\n",
       "      <td>150.0</td>\n",
       "      <td>Furniture</td>\n",
       "      <td>8.5</td>\n",
       "    </tr>\n",
       "    <tr>\n",
       "      <th>4</th>\n",
       "      <td>5</td>\n",
       "      <td>4</td>\n",
       "      <td>2023-04-18</td>\n",
       "      <td>200.0</td>\n",
       "      <td>Electronics</td>\n",
       "      <td>9.5</td>\n",
       "    </tr>\n",
       "  </tbody>\n",
       "</table>\n",
       "</div>"
      ],
      "text/plain": [
       "   Client_ID  Store_ID       Date  Spent Product_Category  Satisfaction_Score\n",
       "0          1         1 2023-01-05  100.0      Electronics                 9.0\n",
       "1          2         2 2023-01-07   35.0        Groceries                 8.0\n",
       "2          3         1 2023-02-10   60.0         Clothing                 7.5\n",
       "3          4         3 2023-03-12  150.0        Furniture                 8.5\n",
       "4          5         4 2023-04-18  200.0      Electronics                 9.5"
      ]
     },
     "execution_count": 13,
     "metadata": {},
     "output_type": "execute_result"
    }
   ],
   "source": [
    "# Afficher un aperçu des données des clients\n",
    "df_clients"
   ]
  },
  {
   "cell_type": "code",
   "execution_count": 14,
   "id": "f87275dc",
   "metadata": {},
   "outputs": [
    {
     "data": {
      "text/plain": [
       "Store_ID            0\n",
       "Date                0\n",
       "Product_Category    0\n",
       "Quantity            0\n",
       "Price               0\n",
       "Total_Sales         0\n",
       "dtype: int64"
      ]
     },
     "execution_count": 14,
     "metadata": {},
     "output_type": "execute_result"
    }
   ],
   "source": [
    "# Nettoyage : Vérifier les valeurs manquantes\n",
    "df_ventes.isnull().sum()"
   ]
  },
  {
   "cell_type": "markdown",
   "id": "a38c67b1",
   "metadata": {},
   "source": [
    "### Étape 2 : Analyser les ventes mensuelles par supermarché"
   ]
  },
  {
   "cell_type": "code",
   "execution_count": 17,
   "id": "dd1901da",
   "metadata": {},
   "outputs": [],
   "source": [
    "# Ajouter une colonne pour le total des ventes\n",
    "df_ventes['Total_Sales'] = df_ventes['Price'] * df_ventes['Quantity']"
   ]
  },
  {
   "cell_type": "code",
   "execution_count": 18,
   "id": "7ee4b598",
   "metadata": {},
   "outputs": [
    {
     "data": {
      "text/html": [
       "<div>\n",
       "<style scoped>\n",
       "    .dataframe tbody tr th:only-of-type {\n",
       "        vertical-align: middle;\n",
       "    }\n",
       "\n",
       "    .dataframe tbody tr th {\n",
       "        vertical-align: top;\n",
       "    }\n",
       "\n",
       "    .dataframe thead th {\n",
       "        text-align: right;\n",
       "    }\n",
       "</style>\n",
       "<table border=\"1\" class=\"dataframe\">\n",
       "  <thead>\n",
       "    <tr style=\"text-align: right;\">\n",
       "      <th></th>\n",
       "      <th>Store_ID</th>\n",
       "      <th>Date</th>\n",
       "      <th>Product_Category</th>\n",
       "      <th>Quantity</th>\n",
       "      <th>Price</th>\n",
       "      <th>Total_Sales</th>\n",
       "    </tr>\n",
       "  </thead>\n",
       "  <tbody>\n",
       "    <tr>\n",
       "      <th>0</th>\n",
       "      <td>1</td>\n",
       "      <td>2023-01-05</td>\n",
       "      <td>Electronics</td>\n",
       "      <td>3</td>\n",
       "      <td>50.0</td>\n",
       "      <td>150.0</td>\n",
       "    </tr>\n",
       "    <tr>\n",
       "      <th>1</th>\n",
       "      <td>2</td>\n",
       "      <td>2023-01-07</td>\n",
       "      <td>Groceries</td>\n",
       "      <td>10</td>\n",
       "      <td>5.0</td>\n",
       "      <td>50.0</td>\n",
       "    </tr>\n",
       "    <tr>\n",
       "      <th>2</th>\n",
       "      <td>1</td>\n",
       "      <td>2023-02-10</td>\n",
       "      <td>Clothing</td>\n",
       "      <td>2</td>\n",
       "      <td>30.0</td>\n",
       "      <td>60.0</td>\n",
       "    </tr>\n",
       "    <tr>\n",
       "      <th>3</th>\n",
       "      <td>3</td>\n",
       "      <td>2023-03-12</td>\n",
       "      <td>Furniture</td>\n",
       "      <td>1</td>\n",
       "      <td>150.0</td>\n",
       "      <td>150.0</td>\n",
       "    </tr>\n",
       "    <tr>\n",
       "      <th>4</th>\n",
       "      <td>2</td>\n",
       "      <td>2023-04-18</td>\n",
       "      <td>Groceries</td>\n",
       "      <td>8</td>\n",
       "      <td>7.5</td>\n",
       "      <td>60.0</td>\n",
       "    </tr>\n",
       "    <tr>\n",
       "      <th>5</th>\n",
       "      <td>4</td>\n",
       "      <td>2023-05-21</td>\n",
       "      <td>Electronics</td>\n",
       "      <td>5</td>\n",
       "      <td>40.0</td>\n",
       "      <td>200.0</td>\n",
       "    </tr>\n",
       "  </tbody>\n",
       "</table>\n",
       "</div>"
      ],
      "text/plain": [
       "   Store_ID       Date Product_Category  Quantity  Price  Total_Sales\n",
       "0         1 2023-01-05      Electronics         3   50.0        150.0\n",
       "1         2 2023-01-07        Groceries        10    5.0         50.0\n",
       "2         1 2023-02-10         Clothing         2   30.0         60.0\n",
       "3         3 2023-03-12        Furniture         1  150.0        150.0\n",
       "4         2 2023-04-18        Groceries         8    7.5         60.0\n",
       "5         4 2023-05-21      Electronics         5   40.0        200.0"
      ]
     },
     "execution_count": 18,
     "metadata": {},
     "output_type": "execute_result"
    }
   ],
   "source": [
    "df_ventes"
   ]
  },
  {
   "cell_type": "code",
   "execution_count": 20,
   "id": "1d4aa12e",
   "metadata": {},
   "outputs": [
    {
     "data": {
      "text/plain": [
       "Store_ID  Date      \n",
       "1         2023-01-05    150.0\n",
       "          2023-02-10     60.0\n",
       "2         2023-01-07     50.0\n",
       "          2023-04-18     60.0\n",
       "3         2023-03-12    150.0\n",
       "4         2023-05-21    200.0\n",
       "Name: Total_Sales, dtype: float64"
      ]
     },
     "execution_count": 20,
     "metadata": {},
     "output_type": "execute_result"
    }
   ],
   "source": [
    "# Calculer les ventes par mois et par supermarché\n",
    "ventes_par_mois = df_ventes.groupby(['Store_ID', 'Date'])['Total_Sales'].sum()\n",
    "ventes_par_mois\n"
   ]
  },
  {
   "cell_type": "code",
   "execution_count": 21,
   "id": "162c1c15",
   "metadata": {},
   "outputs": [
    {
     "data": {
      "image/png": "[encoded data removed]",
      "text/plain": [
       "<Figure size 640x480 with 1 Axes>"
      ]
     },
     "metadata": {},
     "output_type": "display_data"
    }
   ],
   "source": [
    "# Visualiser les ventes mensuelles\n",
    "ventes_par_mois.unstack().plot(kind='bar', title='Ventes par mois pour chaque supermarché')\n",
    "plt.ylabel('Total des ventes')\n",
    "plt.show()\n",
    "\n"
   ]
  },
  {
   "cell_type": "markdown",
   "id": "e05091e7",
   "metadata": {},
   "source": [
    "### Étape 3 : Identifier les catégories de produits les plus vendues"
   ]
  },
  {
   "cell_type": "code",
   "execution_count": 22,
   "id": "5679f171",
   "metadata": {},
   "outputs": [
    {
     "data": {
      "text/plain": [
       "Product_Category\n",
       "Clothing        60.0\n",
       "Electronics    350.0\n",
       "Furniture      150.0\n",
       "Groceries      110.0\n",
       "Name: Total_Sales, dtype: float64"
      ]
     },
     "execution_count": 22,
     "metadata": {},
     "output_type": "execute_result"
    }
   ],
   "source": [
    "# Calculer les ventes par catégorie de produit\n",
    "ventes_par_categorie = df_ventes.groupby('Product_Category')['Total_Sales'].sum()\n",
    "ventes_par_categorie\n"
   ]
  },
  {
   "cell_type": "code",
   "execution_count": 23,
   "id": "0d1a90ca",
   "metadata": {},
   "outputs": [
    {
     "data": {
      "image/png": "[encoded data removed]",
      "text/plain": [
       "<Figure size 640x480 with 1 Axes>"
      ]
     },
     "metadata": {},
     "output_type": "display_data"
    }
   ],
   "source": [
    "# Visualiser les ventes par catégorie de produit\n",
    "ventes_par_categorie.plot(kind='bar', title='Ventes par catégorie de produit')\n",
    "plt.ylabel('Total des ventes')\n",
    "plt.show()"
   ]
  },
  {
   "cell_type": "markdown",
   "id": "d4c990b1",
   "metadata": {},
   "source": [
    "### Étape 4 : Étudier la répartition des dépenses des clients"
   ]
  },
  {
   "cell_type": "code",
   "execution_count": 24,
   "id": "d083ac9a",
   "metadata": {},
   "outputs": [
    {
     "data": {
      "text/plain": [
       "Product_Category\n",
       "Clothing        60.0\n",
       "Electronics    300.0\n",
       "Furniture      150.0\n",
       "Groceries       35.0\n",
       "Name: Spent, dtype: float64"
      ]
     },
     "execution_count": 24,
     "metadata": {},
     "output_type": "execute_result"
    }
   ],
   "source": [
    "# Répartition des dépenses par catégorie\n",
    "depenses_par_categorie = df_clients.groupby('Product_Category')['Spent'].sum()\n",
    "depenses_par_categorie"
   ]
  },
  {
   "cell_type": "code",
   "execution_count": 25,
   "id": "f0c8e709",
   "metadata": {},
   "outputs": [
    {
     "data": {
      "image/png": "[encoded data removed]",
      "text/plain": [
       "<Figure size 640x480 with 1 Axes>"
      ]
     },
     "metadata": {},
     "output_type": "display_data"
    }
   ],
   "source": [
    "# Visualisation de la répartition\n",
    "depenses_par_categorie.plot(kind='pie', title='Répartition des dépenses par catégorie')\n",
    "plt.ylabel('')\n",
    "plt.show()\n"
   ]
  },
  {
   "cell_type": "markdown",
   "id": "4a4f4f1d",
   "metadata": {},
   "source": [
    "### Étape 5 : Analyser la performance des employés"
   ]
  },
  {
   "cell_type": "code",
   "execution_count": 26,
   "id": "2190820e",
   "metadata": {},
   "outputs": [
    {
     "data": {
      "text/plain": [
       "Employee_Name\n",
       "Alice      1500\n",
       "Bob        2000\n",
       "Charlie    1800\n",
       "Diana      2200\n",
       "Edward     1700\n",
       "Name: Sales_Made, dtype: int64"
      ]
     },
     "execution_count": 26,
     "metadata": {},
     "output_type": "execute_result"
    }
   ],
   "source": [
    "# Calculer la performance des employés par ventes\n",
    "performance_employes = df_employes.groupby('Employee_Name')['Sales_Made'].sum()\n",
    "performance_employes\n"
   ]
  },
  {
   "cell_type": "code",
   "execution_count": 27,
   "id": "936fd5f4",
   "metadata": {},
   "outputs": [
    {
     "data": {
      "image/png": "[encoded data removed]",
      "text/plain": [
       "<Figure size 640x480 with 1 Axes>"
      ]
     },
     "metadata": {},
     "output_type": "display_data"
    }
   ],
   "source": [
    "# Visualiser la performance des employés\n",
    "performance_employes.plot(kind='bar', title='Performance des employés en termes de ventes')\n",
    "plt.ylabel('Total des ventes')\n",
    "plt.show()\n"
   ]
  },
  {
   "cell_type": "code",
   "execution_count": 28,
   "id": "19c4e4e3",
   "metadata": {},
   "outputs": [
    {
     "data": {
      "image/png": "[encoded data removed]",
      "text/plain": [
       "<Figure size 640x480 with 1 Axes>"
      ]
     },
     "metadata": {},
     "output_type": "display_data"
    }
   ],
   "source": [
    "# Visualiser la satisfaction client par employé\n",
    "satisfaction_employes = df_employes.groupby('Employee_Name')['Customer_Satisfaction'].mean()\n",
    "satisfaction_employes.plot(kind='bar', title='Satisfaction des clients par employé')\n",
    "plt.ylabel('Satisfaction moyenne')\n",
    "plt.show()"
   ]
  },
  {
   "cell_type": "markdown",
   "id": "a4726b80",
   "metadata": {},
   "source": [
    "### Étape 6 : Analyser la satisfaction des clients"
   ]
  },
  {
   "cell_type": "code",
   "execution_count": 29,
   "id": "f229ff15",
   "metadata": {},
   "outputs": [
    {
     "data": {
      "text/plain": [
       "Date\n",
       "2023-01-05    9.0\n",
       "2023-01-07    8.0\n",
       "2023-02-10    7.5\n",
       "2023-03-12    8.5\n",
       "2023-04-18    9.5\n",
       "Name: Satisfaction_Score, dtype: float64"
      ]
     },
     "execution_count": 29,
     "metadata": {},
     "output_type": "execute_result"
    }
   ],
   "source": [
    "# Satisfaction des clients par mois\n",
    "satisfaction_par_mois = df_clients.groupby('Date')['Satisfaction_Score'].mean()\n",
    "satisfaction_par_mois"
   ]
  },
  {
   "cell_type": "code",
   "execution_count": 30,
   "id": "5eec629c",
   "metadata": {},
   "outputs": [
    {
     "data": {
      "image/png": "[encoded data removed]",
      "text/plain": [
       "<Figure size 640x480 with 1 Axes>"
      ]
     },
     "metadata": {},
     "output_type": "display_data"
    }
   ],
   "source": [
    "# Visualiser la satisfaction client par mois\n",
    "satisfaction_par_mois.plot(kind='line', title='Satisfaction des clients par mois', marker='o')\n",
    "plt.ylabel('Satisfaction moyenne')\n",
    "plt.show()\n"
   ]
  },
  {
   "cell_type": "code",
   "execution_count": null,
   "id": "27f69bfc",
   "metadata": {},
   "outputs": [],
   "source": []
  },
  {
   "cell_type": "code",
   "execution_count": null,
   "id": "f1ec1439",
   "metadata": {},
   "outputs": [],
   "source": []
  },
  {
   "cell_type": "code",
   "execution_count": null,
   "id": "ed5cba59-c830-4fb8-9735-e528b5ad17bf",
   "metadata": {},
   "outputs": [],
   "source": []
  }
 ],
 "metadata": {
  "kernelspec": {
   "display_name": "Python 3 (ipykernel)",
   "language": "python",
   "name": "python3"
  },
  "language_info": {
   "codemirror_mode": {
    "name": "ipython",
    "version": 3
   },
   "file_extension": ".py",
   "mimetype": "text/x-python",
   "name": "python",
   "nbconvert_exporter": "python",
   "pygments_lexer": "ipython3",
   "version": "3.11.7"
  }
 },
 "nbformat": 4,
 "nbformat_minor": 5
}
